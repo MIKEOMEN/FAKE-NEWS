{
 "cells": [
  {
   "cell_type": "code",
   "execution_count": 1,
   "id": "31dd0110-1191-42a3-a05e-6c9692fac4e4",
   "metadata": {},
   "outputs": [
    {
     "name": "stderr",
     "output_type": "stream",
     "text": [
      "[nltk_data] Downloading package stopwords to\n",
      "[nltk_data]     C:\\Users\\Harshal\\AppData\\Roaming\\nltk_data...\n",
      "[nltk_data]   Package stopwords is already up-to-date!\n",
      "[nltk_data] Downloading package wordnet to\n",
      "[nltk_data]     C:\\Users\\Harshal\\AppData\\Roaming\\nltk_data...\n",
      "[nltk_data]   Package wordnet is already up-to-date!\n"
     ]
    },
    {
     "data": {
      "text/plain": [
       "True"
      ]
     },
     "execution_count": 1,
     "metadata": {},
     "output_type": "execute_result"
    }
   ],
   "source": [
    "#Live Fake News Detection from NDTV RSS Feed\n",
    "\n",
    "#Part 1: Imports\n",
    "import pandas as pd \n",
    "import numpy as np\n",
    "import re \n",
    "import string\n",
    "import joblib\n",
    "import feedparser\n",
    "import requests \n",
    "import os\n",
    "\n",
    "from sklearn.feature_extraction.text import TfidfVectorizer\n",
    "from sklearn.ensemble import RandomForestClassifier\n",
    "from sklearn.metrics import classification_report, accuracy_score\n",
    "from sklearn.linear_model import LogisticRegression\n",
    "from sklearn.model_selection import train_test_split\n",
    "\n",
    "import nltk\n",
    "from nltk.corpus import stopwords\n",
    "from nltk.stem import WordNetLemmatizer\n",
    "\n",
    "nltk.download('stopwords')\n",
    "nltk.download('wordnet')\n"
   ]
  },
  {
   "cell_type": "code",
   "execution_count": 11,
   "id": "e0dd1b31-8649-448f-b93d-d4ddf5d9723d",
   "metadata": {},
   "outputs": [],
   "source": [
    "#Part 2: Preprocessing Function\n",
    "def clean_text(text):\n",
    "    text = text.lower()\n",
    "    text = re.sub(r\"https?://\\S+\", \"\", text)\n",
    "    text = re.sub(r\"[^a-zA-Z\\s]\", \"\", text)\n",
    "    words = text.split()\n",
    "    stop_words = set(stopwords.words('english'))\n",
    "    lemmatizer = WordNetLemmatizer()\n",
    "    cleaned = [lemmatizer.lemmatize(word) for word in words if word not in stop_words]\n",
    "    return ' '.join(cleaned)"
   ]
  },
  {
   "cell_type": "code",
   "execution_count": 13,
   "id": "0e05f4ff-c2b6-4719-8287-35e6f6b47859",
   "metadata": {},
   "outputs": [],
   "source": [
    "#Part 3: Loading Fake News Dataset\n",
    "def load_local_dataset():\n",
    "    path = \"fake_news_dataset.csv\"\n",
    "    df = pd.read_csv(path)\n",
    "    df = df[['text', 'label']]\n",
    "    df.dropna(inplace = True)\n",
    "    df['label'] = df['label'].str.upper()\n",
    "    return df"
   ]
  },
  {
   "cell_type": "code",
   "execution_count": 15,
   "id": "30e75bba-556e-4c81-bc8d-1c8943b8d345",
   "metadata": {},
   "outputs": [],
   "source": [
    "#Part 4: Fetch Live News from NDTV RSS Feed \n",
    "def fetch_ndtv_news():\n",
    "    feed_url = 'http://feeds.feedburner.com/ndtvnews-top-stories'\n",
    "    feed = feedparser.parse(feed_url)\n",
    "    news_items = []\n",
    "    for entry in feed.entries:\n",
    "        title = entry.title\n",
    "        summary = entry.summary if 'summary' in entry else title\n",
    "        combined = f\"{title}.{summary}\"\n",
    "        news_items.append({'text' : combined, 'label' : 'REAL'})\n",
    "    return pd.DataFrame(news_items)"
   ]
  },
  {
   "cell_type": "code",
   "execution_count": 17,
   "id": "1a65e7f7-beba-4f7b-ab59-b264c614e103",
   "metadata": {},
   "outputs": [],
   "source": [
    "#Part 5: Combine and Clean\n",
    "def prepare_data():\n",
    "    local_df = load_local_dataset()\n",
    "    ndtv_df = fetch_ndtv_news()\n",
    "    combined = pd.concat([local_df, ndtv_df], ignore_index = True)\n",
    "    combined['clean_text'] = combined['text'].apply(clean_text)\n",
    "    return combined.dropna()"
   ]
  },
  {
   "cell_type": "code",
   "execution_count": 19,
   "id": "71b8a88d-55c4-4f4a-b72c-50b04b49cc1c",
   "metadata": {},
   "outputs": [],
   "source": [
    "#Part 6: Train and Save Model\n",
    "def train_and_save_model(df):\n",
    "    vectorizer = TfidfVectorizer(max_features = 10000, ngram_range = (1,2))\n",
    "    X = vectorizer.fit_transform(df['clean_text'])\n",
    "    y = df['label']\n",
    "    X_train, X_test, y_train, y_test = train_test_split(X, y, stratify = y, test_size = 0.2, random_state = 42)\n",
    "    model = LogisticRegression(max_iter = 1000, class_weight = 'balanced')\n",
    "    model.fit(X_train, y_train)\n",
    "    joblib.dump(model, \"updated_model.pkl\")\n",
    "    joblib.dump(vectorizer, \"updated_vectorizer\")\n",
    "    print(\"Model and vectorizer saved as 'updated_model.pkl' and 'updated_vectorize.pkl'\")\n",
    "    print(\"Evaluation:\")\n",
    "    y_pred = model.predict(X_test)\n",
    "    print(\"Accuracy:\", accuracy_score(y_test, y_pred))\n",
    "    print(classification_report(y_test, y_pred))"
   ]
  },
  {
   "cell_type": "code",
   "execution_count": 21,
   "id": "78e74870-5bbc-4b8d-9c7a-3b5907347e99",
   "metadata": {},
   "outputs": [
    {
     "name": "stdout",
     "output_type": "stream",
     "text": [
      "Praparing Data....\n",
      "Training Model....\n",
      "Model and vectorizer saved as 'updated_model.pkl' and 'updated_vectorize.pkl'\n",
      "Evaluation:\n",
      "Accuracy: 1.0\n",
      "              precision    recall  f1-score   support\n",
      "\n",
      "        FAKE       1.00      1.00      1.00       120\n",
      "        REAL       1.00      1.00      1.00       124\n",
      "\n",
      "    accuracy                           1.00       244\n",
      "   macro avg       1.00      1.00      1.00       244\n",
      "weighted avg       1.00      1.00      1.00       244\n",
      "\n"
     ]
    }
   ],
   "source": [
    "#Calling Main:\n",
    "if __name__ == \"__main__\":\n",
    "   print(\"Praparing Data....\")\n",
    "   combined_df = prepare_data()\n",
    "   print(\"Training Model....\")\n",
    "   train_and_save_model(combined_df)"
   ]
  },
  {
   "cell_type": "code",
   "execution_count": null,
   "id": "523a713a-7974-4fcd-be64-71c66e86ea83",
   "metadata": {},
   "outputs": [],
   "source": []
  }
 ],
 "metadata": {
  "kernelspec": {
   "display_name": "Python 3 (ipykernel)",
   "language": "python",
   "name": "python3"
  },
  "language_info": {
   "codemirror_mode": {
    "name": "ipython",
    "version": 3
   },
   "file_extension": ".py",
   "mimetype": "text/x-python",
   "name": "python",
   "nbconvert_exporter": "python",
   "pygments_lexer": "ipython3",
   "version": "3.12.4"
  }
 },
 "nbformat": 4,
 "nbformat_minor": 5